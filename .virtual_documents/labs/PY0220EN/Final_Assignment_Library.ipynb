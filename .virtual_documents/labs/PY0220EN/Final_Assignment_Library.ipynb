get_ipython().getoutput("pip install yfinance==0.2.4")
#!pip install pandas==1.3.3


import yfinance as yf
import pandas as pd


apple = yf.Ticker("AAPL")


get_ipython().getoutput("wget https://cf-courses-data.s3.us.cloud-object-storage.appdomain.cloud/IBMDeveloperSkillsNetwork-PY0220EN-SkillsNetwork/data/apple.json")


import json
with open('apple.json') as json_file:
    apple_info = json.load(json_file)
    # Print the type of data variable    
    #print("Type:", type(apple_info))
apple_info


apple_info['country']


apple_share_price_data = apple.history(period="max")


apple_share_price_data.head()


apple_share_price_data.reset_index(inplace=True)


apple_share_price_data.plot(x="Date", y="Open")


apple.dividends


apple.dividends.plot()


amd = yf.Ticker("AMD")


get_ipython().getoutput("wget https://cf-courses-data.s3.us.cloud-object-storage.appdomain.cloud/IBMDeveloperSkillsNetwork-PY0220EN-SkillsNetwork/data/amd.json")


import json
with open('amd.json') as json_file:
    amd_info = json.load(json_file)
    # Print the type of data variable    
    #print("Type:", type(apple_info))
amd_info


amd_info['country']


amd_info['sector']


amd_share_price_data = amd.history(period="max")
amd_share_price_data.head()

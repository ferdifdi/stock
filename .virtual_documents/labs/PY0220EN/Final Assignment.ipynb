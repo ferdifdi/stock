get_ipython().getoutput("pip install yfinance==0.1.67")
get_ipython().getoutput("mamba install bs4==4.10.0 -y")
get_ipython().getoutput("pip install nbformat==4.2.0")


import yfinance as yf
import pandas as pd
import requests
from bs4 import BeautifulSoup
import plotly.graph_objects as go
from plotly.subplots import make_subplots


def make_graph(stock_data, revenue_data, stock):
    fig = make_subplots(rows=2, cols=1, shared_xaxes=True, subplot_titles=("Historical Share Price", "Historical Revenue"), vertical_spacing = .3)
    stock_data_specific = stock_data[stock_data.Date <= '2021--06-14']
    revenue_data_specific = revenue_data[revenue_data.Date <= '2021-04-30']
    fig.add_trace(go.Scatter(x=pd.to_datetime(stock_data_specific.Date, infer_datetime_format=True), y=stock_data_specific.Close.astype("float"), name="Share Price"), row=1, col=1)
    fig.add_trace(go.Scatter(x=pd.to_datetime(revenue_data_specific.Date, infer_datetime_format=True), y=revenue_data_specific.Revenue.astype("float"), name="Revenue"), row=2, col=1)
    fig.update_xaxes(title_text="Date", row=1, col=1)
    fig.update_xaxes(title_text="Date", row=2, col=1)
    fig.update_yaxes(title_text="Price ($US)", row=1, col=1)
    fig.update_yaxes(title_text="Revenue ($US Millions)", row=2, col=1)
    fig.update_layout(showlegend=False,
    height=900,
    title=stock,
    xaxis_rangeslider_visible=True)
    fig.show()


tsla = yf.Ticker("TSLA")


tsla_share_price_data = tsla.history(period="max")


tsla_share_price_data.reset_index(inplace=True)
tsla_share_price_data.head()


url = "https://cf-courses-data.s3.us.cloud-object-storage.appdomain.cloud/IBMDeveloperSkillsNetwork-PY0220EN-SkillsNetwork/labs/project/revenue.htm"
response = requests.get(url)
html_data = response.text


soup = BeautifulSoup(html_data, 'html.parser')


table = soup.find_all("tbody")[1]

data = []
rows = table.find_all('tr')
for row in rows:
    cells = row.find_all('td')
    if len(cells) == 2:
        date = cells[0].text.strip()
        revenue = cells[1].text.strip()
        data.append([date, revenue])

tesla_revenue = pd.DataFrame(data, columns=['Date', 'Revenue'])


tesla_revenue["Revenue"] = tesla_revenue['Revenue'].str.replace(',|\$',"")


tesla_revenue.dropna(inplace=True)

tesla_revenue = tesla_revenue[tesla_revenue['Revenue'] != ""]


tesla_revenue.tail()


gme = yf.Ticker("GME")


gme_share_price_data = gme.history(period="max")


gme_share_price_data.reset_index(inplace=True)
gme_share_price_data.head()


















